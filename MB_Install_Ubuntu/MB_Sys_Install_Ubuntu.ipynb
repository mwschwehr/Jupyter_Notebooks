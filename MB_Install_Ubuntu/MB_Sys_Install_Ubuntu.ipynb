{
 "cells": [
  {
   "cell_type": "markdown",
   "metadata": {},
   "source": [
    "## Installing MB-System on Ubuntu 14.04 and 16.04 LTS\n",
    "\n",
    "#### Monica Schwehr\n",
    "#### Monterey Bay Aquarium Research Institute  <mschwehr@mbari.org>\n"
   ]
  },
  {
   "cell_type": "markdown",
   "metadata": {},
   "source": [
    "**MB-System** is an open source software package for the processing and display of bathymetry and backscatter imagery data derived from multibeam, interferometry, and sidescan sonars. \n",
    "\n",
    "The MB-System website http://www.mbari.org/products/research-software/mb-system/ has installation instructions for building MB-System on MacOS X and Linux. This document will offer a more detailed how-to guide for installing MB-System on Ubuntu 14.04 LTS and 16.04 LTS.\n"
   ]
  },
  {
   "cell_type": "markdown",
   "metadata": {},
   "source": [
    "### Required Software\n",
    "\n",
    "* GMT 5.2.1 or later\n",
    "    * On Ubuntu 14.04LTS GMT 5.2.1 is included in the UbuntuGIS repository\n",
    "        * instructions to add repository are below\n",
    "    * On Ubuntu 16.04LTS, GMT 5.2.1 is included in the standard Ubuntu reposity\n",
    "    * I'll also include directions on building from source\n",
    "* GDAL 1.11 or later\n",
    "* NetCDF 3.5.1\n",
    "* Perl 5.x (this has not been tested with Perl 6.0)\n",
    "* Perl Parallel-Forkmanager module\n",
    "* X11\n",
    "* Motif\n",
    "* FFTW\n",
    "* OTPSnc or OTPS2 (if you're going to be modeling tidal corrections)\n",
    "* ghostview or gv\n",
    "    * gv is actually a bit more powerful than ghostview and can handle poster-zised images"
   ]
  },
  {
   "cell_type": "markdown",
   "metadata": {},
   "source": [
    "### UbuntuGIS Repository\n",
    "\n",
    "The UbuntuGIS repository (https://wiki.ubuntu.com/UbuntuGIS) will bring in tools like GMT, GDAL, MB-System, QGIS, etc. but the versions of the software tools are often a couple iterations behind. \n",
    "\n",
    "As of 2/14/17 the version of GMT included in the default Ubuntu 14.04 software repository is 4.5.11 and the version in the UbuntuGIS repository is 5.1.2. Therefore, to get version 5.2.1+ you must install from source (instructions are below).\n",
    "\n",
    "The UbuntuGIS repository is a great repo to add, as the software included is continuously being added to and updated. There is also an unstable version that has more recent versions of the some of the software tools, but is not thoroughly tested.\n",
    "\n",
    "To add this repository to your system:\n",
    "     * sudo add-apt-repository ppa:ubuntugis/ppa\n",
    "     * sudo apt-get update\n",
    "     * sudo apt-get upgrade"
   ]
  },
  {
   "cell_type": "markdown",
   "metadata": {},
   "source": [
    "### Installing GMT 5.2.1 via repository\n",
    "\n",
    "In Ubuntu 16.04LTS GMT 5.2.1 is included in the standard Ubuntu repository, no need to add the UbuntuGIS repo. so you can simply install it via apt-get\n",
    "\n",
    "GMT will also install gmt-gshhg-full by default, I would recommend going with gmt-gshhg instead. This includes all resolutions and will automatically pick the best one based off the scale of your plot.\n",
    "\n",
    "________________________________\n",
    "sudo apt-get install gmt gmt-gshhg \n",
    "________________________________"
   ]
  },
  {
   "cell_type": "markdown",
   "metadata": {},
   "source": [
    "### Installing GMT 5.2.1 from source\n",
    "#### Required method if on a Ubuntu version below 16.04 LTS\n",
    "If the UbuntuGIS repository does not have the version of GMT you want (perhaps you want to use 5.3 instead of 5.2.1) or you just want to install from source, you can follow the directions below:\n",
    "\n",
    "#### Software Requirements\n",
    "* Cmake 2.8.5 or later\n",
    "* build-essential\n",
    "* Proj4\n",
    "    * only need development files, but I'd recommend the full package of cartographic projections\n",
    "* NetCDF 4.0 or later\n",
    "* GDAL\n",
    "    * only need development files, but full prog is nice for translating data between different projection outside of GMT\n",
    "* FFTW3\n",
    "    * fast fourier transform library\n",
    "* PCRE \n",
    "    * perl-compatible regular expressions\n",
    "* LAPACK\n",
    "    * linear algebra tool pack\n",
    "    \n",
    "    \n",
    "*This list is not exhaustive, and you may need more or less programs and libraries depending on your current linux configuration and any previously installed software. Any missing tools will be identified during the build process*\n",
    "\n",
    "\n",
    "** We can install these dependencies all in one go via the command:**\n",
    "___________________________________________________________\n",
    "    sudo apt-get install build-essential cmake libnetcdf-dev libgdal-dev gdal-bin libfftw3-dev libpcre3-dev \n",
    "    liblapack-dev libproj-dev proj-bin\n",
    "___________________________________________________________ "
   ]
  },
  {
   "cell_type": "markdown",
   "metadata": {},
   "source": [
    "** Download GMT 5.2.1 (or later)**\n",
    "\n",
    "1. Go to: http://gmt.soest.hawaii.edu/projects/gmt/wiki/Download\n",
    "+ You'll need:\n",
    "    + gmt-5.2.1-src.tar.gz\n",
    "    + gshhg-gmt-2.3.6.tar.gz - Global Self-consistent Hierarchical High-resolution Geography\n",
    "    + dcw-gmt-1.1.2.tar.gz - country polygons\n",
    "+ cd to directory and before unpacking, verify downloand integrity with the checksum if you like\n",
    "    + md5sum gmt-5.2.1-src.tar.gz\n",
    "    + should return: df96d3cc9a93bc3c049f1523ada57117\n",
    "+ tar -xf gmt-5.2.1-src.tar.gz\n",
    "+ you'll also need to unpack the gshhg and dwg files somewhere. \n",
    "    + When installing via a package manager, GMT places them in /usr/share/\n",
    "    + you may want to pick a location outside of /usr/ such as your home directory\n",
    "+ cd into the unpacked gmt-5.2.1 directory\n",
    "+ cd in cmake\n",
    "+ cp ConfigUserTemplate.cmake ConfigUser.cmake\n",
    "    + edit ConfigUser.cmake to tell GMT where to install and where the geography data is\n",
    "        + set (CMAKE_INSTALL_PREFIX \"path to install gmt\")\n",
    "            + do not edit this line if you want gmt to install into the default directory structure\n",
    "                + On 14.04 I think this is /usr/bin/\n",
    "        + set (GSHHG_ROOT \"path to gshhg\")\n",
    "            + example: set (GSHHG_ROOT /usr/share/gmt-gshhg)\n",
    "        + set (DCW_ROOT \"path to dcw\")\n",
    "+ cd out of make, so you are in gmt-5.2.1:\n",
    "+ run the following:\n",
    "    + mkdir build\n",
    "    + cd build\n",
    "    + cmake ..\n",
    "    + make\n",
    "    + sudo make install\n",
    "        + if you are building outside of /usr/ you can run this without the sudo command\n",
    "\n",
    "** Remember: If you installed GMT outside of the default directory, you'll want to the add path to the bin directory to your path in your .bashrc or .bash_profile (e.g. export PATH=$PATH:path_to/gmt/bin)**\n",
    "\n",
    "\n",
    "\n"
   ]
  },
  {
   "cell_type": "markdown",
   "metadata": {},
   "source": [
    "### Let's test our GMT install\n",
    "\n",
    "----\n",
    "    gmt pscoast -R-130/-30/-50/50 -Jm0.025i -B30g30:.Mercator: -Di -W > mercator.ps\n",
    "    gv mercator.ps\n",
    "----\n"
   ]
  },
  {
   "cell_type": "markdown",
   "metadata": {},
   "source": [
    "When you run the above cell, you should end up with map centered on the equator, showing parts of North and South America"
   ]
  },
  {
   "cell_type": "markdown",
   "metadata": {},
   "source": [
    " <img src=\"mercator.png\">"
   ]
  },
  {
   "cell_type": "markdown",
   "metadata": {},
   "source": [
    "### The rest  of the MB-System requirements can be installed in one line\n",
    "\n",
    "\n",
    "A lot of the dependencies of MB-System are shared by GMT 5.2, so all you should need to add is:\n",
    "___________________    \n",
    "    sudo apt-get install libmotif-dev libmotif-common xorg-dev libsdl1.2-dev libsdl-image1.2-dev libxp-dev\n",
    "    libfftw3-3 libfftw3-dev netcdf-bin gv csh libgmt-dev libgmt5 libproj9 proj-bin gdal-bin libgdal-dev\n",
    "    gfortran libparallel-forkmanager-perl\n",
    "____________________\n"
   ]
  },
  {
   "cell_type": "markdown",
   "metadata": {},
   "source": [
    "## Now, for MB-System itself:\n",
    "\t\n",
    "These steps assume you have downloaded a tar.gz file from the website: http://www.mbari.org/products/research-software/mb-system/\n",
    "\n",
    "The steps are the same whether you're on 14.04LTS or 16.04LTS\n",
    "\n",
    "-----\n",
    "     * unpack directory (tar -xf xxx.tar.gz), and cd into it\n",
    "     * type ./configure at prompt\n",
    "-----\n",
    "\n",
    "If you are still missing any major packages, configure will let you know\n",
    "\n",
    "If you want to install into a specific directory (I do this because I test multiple versions), add the prefix option: \n",
    "\n",
    "-----\n",
    "    ./configure --prefix=$HOME/<name of directory>\n",
    "    \n",
    "    e.g.\n",
    "    \n",
    "    ./configure --prefix=$HOME/MBsystem-552282\n",
    "-----\n",
    "\n",
    "Run make\n",
    "   make ensures it can find all the necessary libraries, so it is possible to get make errors complaining about missing libraries even if configure passes, most missing libraries can be installed with sudo apt-get install\n",
    "`<name of library>`. \n",
    "\n",
    "Once make succeeds, you then run the actual install\n",
    "\n",
    "-----\n",
    "    make\n",
    "    sudo make install\n",
    "-----\n"
   ]
  },
  {
   "cell_type": "markdown",
   "metadata": {
    "collapsed": true
   },
   "source": [
    "## Now to set our GMT configure file\n",
    "\n",
    "The main difference between GMT 4 and GMT 5 is that in version 5, a lot of the tools have been rewritten as modules. This is why in out GMT test above we had to type \"gmt pscoast\" instead of just the command \"pscoast.\"\n",
    "\n",
    "This affects the way some MB-System commands that include calls to GMT commands (such as mbcontour & mbswath) function. Therefore, we need to set up our gmt-config file.\n",
    "\n",
    "The necessary MB-System library that we need to make GMT aware of (mbsystem.so) is in the MB-System install directory, under the lib subdirectory.\n",
    "\n",
    "Run the command gmtset from your home directory to copy over the default gmt.conf file:\n",
    "\n",
    "-----\n",
    "    gmt gmtset  GMT_CUSTOM_LIBS   /path_to_MB-Sys_install_directory/lib/mbsystem.so \n",
    "-----\n",
    "\n",
    "So for me, I installed MB-Sys in my home directory, not usr/local/ because I have multiple versions on my machine.\n",
    "The above command for me would look like:\n",
    "\n",
    "\n",
    "-----\n",
    "    gmt gmtset  GMT_CUSTOM_LIBS   $HOME/MBsystem-552282/lib/mbsystem.so \n",
    "-----\n"
   ]
  },
  {
   "cell_type": "markdown",
   "metadata": {},
   "source": [
    "### Lets Test the install\n",
    "\n",
    "-----\n",
    "    mbgrdviz\n",
    "-----\n",
    "\n",
    "Should bring up the MB-System grid visualization tool.\n",
    "Click on Help --> About and you should see the version number"
   ]
  },
  {
   "cell_type": "markdown",
   "metadata": {},
   "source": [
    "\n",
    "<img src=\"mbgrdviz_about.png\">"
   ]
  },
  {
   "cell_type": "markdown",
   "metadata": {},
   "source": [
    "## If you encounter problems\n",
    "\n",
    "**1)** You get hung up processes running certain commands that automatically open ghostview or an image viewer, (e.g: mbm_plot runs, but running the resulting .cmd file hangs) make sure your mbdefaults are set for postscript viewer and screen image viewer:\n",
    "\n",
    "------\n",
    "    Set the postscript viewer using\n",
    "\n",
    "        mbdefaults -Dgv -V\n",
    "\n",
    "    Set your favorite screen image viewer (e.g. feh) using\n",
    "\n",
    "        mbdefaults -Ifeh -V\n",
    "-----\n",
    "\n",
    "**2)** You get a shared library file error trying to run MB-Sys commands: \"mbgrdviz: error while loading shared libraries: libmbio.so.0: cannot open shared object file: No such file or directory >\" \n",
    "\n",
    "This can happen if you installed MB-Sys in a location other than the default (you used --prefix= when you ran ./configure)\n",
    "\n",
    "libmbio.so should be located in your MB-Sys install directory, under the lib subdirectory \n",
    "\n",
    "To define the path to the shared libraries directory:\n",
    "\n",
    "-----\n",
    "    LD_LIBRARY_PATH=$HOME/MBsystem-552282/lib/ \n",
    "    export LD_LIBRARY_PATH\n",
    "-----\n"
   ]
  },
  {
   "cell_type": "markdown",
   "metadata": {},
   "source": [
    "### So now you should be good to go with MB-System on your Ubuntu system.\n",
    "\n",
    "I'll make another post and upload some test data soon, so we can run through some of the basic MB-System commands and you can compare your results to mine to test for consistency. "
   ]
  }
 ],
 "metadata": {
  "anaconda-cloud": {},
  "kernelspec": {
   "display_name": "Bash",
   "language": "bash",
   "name": "bash"
  },
  "language_info": {
   "codemirror_mode": "shell",
   "file_extension": ".sh",
   "mimetype": "text/x-sh",
   "name": "bash"
  }
 },
 "nbformat": 4,
 "nbformat_minor": 1
}
