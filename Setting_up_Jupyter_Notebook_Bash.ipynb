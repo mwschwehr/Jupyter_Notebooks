{
 "cells": [
  {
   "cell_type": "markdown",
   "metadata": {},
   "source": [
    "## Running Jupyter Notebooks with a Bash kernal\n",
    "\n",
    "#### Monica Schwehr, MBARI, <mschwehr@mbari.org>\n",
    "###### Thanks to Kurt Schwehr who help me figure out the install in virtual env https://gist.github.com/schwehr/\n",
    "\n",
    "\n",
    "To run the Jupyter Notebooks contained within this repo you will need to Jupyter (formerly iPython) Notebook installed on your machine.\n",
    "\n",
    "You will also need Python 3.x, bash mode does not work with Python 2.7\n",
    "\n",
    "Since Bash_Kernel is not officially supported by Jupyter yet, it might be safer to run this mode in a python virtual environment\n"
   ]
  },
  {
   "cell_type": "code",
   "execution_count": 1,
   "metadata": {
    "collapsed": false
   },
   "outputs": [
    {
     "name": "stdout",
     "output_type": "stream",
     "text": [
      "Running virtualenv with interpreter /usr/bin/python3\r\n",
      "Using base prefix '/usr'\r\n",
      "New python executable in /home/mschwehr/Jupyter_notebooks/test_env/bin/python3\r\n",
      "Also creating executable in /home/mschwehr/Jupyter_notebooks/test_env/bin/python\r\n",
      "Installing setuptools, pip, wheel...done.\r\n"
     ]
    }
   ],
   "source": [
    "virtualenv -p python3 test_env"
   ]
  },
  {
   "cell_type": "code",
   "execution_count": 2,
   "metadata": {
    "collapsed": false
   },
   "outputs": [
    {
     "name": "stdout",
     "output_type": "stream",
     "text": [
      "(test_env) "
     ]
    }
   ],
   "source": [
    "source test_env/bin/activate"
   ]
  },
  {
   "cell_type": "code",
   "execution_count": 3,
   "metadata": {
    "collapsed": false
   },
   "outputs": [
    {
     "name": "stdout",
     "output_type": "stream",
     "text": [
      "Collecting notebook\r\n",
      "  Using cached notebook-4.2.3-py2.py3-none-any.whl\r\n",
      "Collecting nbconvert (from notebook)\r\n",
      "  Using cached nbconvert-4.2.0-py2.py3-none-any.whl\r\n",
      "Collecting traitlets (from notebook)\r\n",
      "  Using cached traitlets-4.3.1-py2.py3-none-any.whl\r\n",
      "Collecting jupyter-core (from notebook)\r\n",
      "  Using cached jupyter_core-4.2.0-py2.py3-none-any.whl\r\n",
      "Collecting ipython-genutils (from notebook)\r\n",
      "  Using cached ipython_genutils-0.1.0-py2.py3-none-any.whl\r\n",
      "Collecting jinja2 (from notebook)\r\n",
      "  Using cached Jinja2-2.8-py2.py3-none-any.whl\r\n",
      "Collecting nbformat (from notebook)\r\n",
      "  Using cached nbformat-4.1.0-py2.py3-none-any.whl\r\n",
      "Collecting tornado>=4 (from notebook)\r\n",
      "Collecting terminado>=0.3.3; sys_platform != \"win32\" (from notebook)\r\n",
      "Collecting ipykernel (from notebook)\r\n",
      "  Using cached ipykernel-4.5.0-py2.py3-none-any.whl\r\n",
      "Collecting jupyter-client (from notebook)\r\n",
      "  Using cached jupyter_client-4.4.0-py2.py3-none-any.whl\r\n",
      "Collecting pygments (from nbconvert->notebook)\r\n",
      "  Using cached Pygments-2.1.3-py2.py3-none-any.whl\r\n",
      "Collecting mistune!=0.6 (from nbconvert->notebook)\r\n",
      "  Using cached mistune-0.7.3-py2.py3-none-any.whl\r\n",
      "Collecting entrypoints (from nbconvert->notebook)\r\n",
      "  Using cached entrypoints-0.2.2-py2.py3-none-any.whl\r\n",
      "Collecting decorator (from traitlets->notebook)\r\n",
      "  Using cached decorator-4.0.10-py2.py3-none-any.whl\r\n",
      "Collecting six (from traitlets->notebook)\r\n",
      "  Using cached six-1.10.0-py2.py3-none-any.whl\r\n",
      "Collecting MarkupSafe (from jinja2->notebook)\r\n",
      "Collecting jsonschema!=2.5.0,>=2.0 (from nbformat->notebook)\r\n",
      "  Using cached jsonschema-2.5.1-py2.py3-none-any.whl\r\n",
      "Collecting ptyprocess (from terminado>=0.3.3; sys_platform != \"win32\"->notebook)\r\n",
      "  Using cached ptyprocess-0.5.1-py2.py3-none-any.whl\r\n",
      "Collecting ipython>=4.0.0 (from ipykernel->notebook)\r\n",
      "  Using cached ipython-5.1.0-py3-none-any.whl\r\n",
      "Collecting pyzmq>=13 (from jupyter-client->notebook)\r\n",
      "  Using cached pyzmq-16.0.0-cp35-cp35m-manylinux1_x86_64.whl\r\n",
      "Collecting pexpect; sys_platform != \"win32\" (from ipython>=4.0.0->ipykernel->notebook)\r\n",
      "  Using cached pexpect-4.2.1-py2.py3-none-any.whl\r\n",
      "Requirement already up-to-date: setuptools>=18.5 in ./test_env/lib/python3.5/site-packages (from ipython>=4.0.0->ipykernel->notebook)\r\n",
      "Collecting prompt-toolkit<2.0.0,>=1.0.3 (from ipython>=4.0.0->ipykernel->notebook)\r\n",
      "  Using cached prompt_toolkit-1.0.8-py3-none-any.whl\r\n",
      "Collecting pickleshare (from ipython>=4.0.0->ipykernel->notebook)\r\n",
      "  Using cached pickleshare-0.7.4-py2.py3-none-any.whl\r\n",
      "Collecting simplegeneric>0.8 (from ipython>=4.0.0->ipykernel->notebook)\r\n",
      "Collecting wcwidth (from prompt-toolkit<2.0.0,>=1.0.3->ipython>=4.0.0->ipykernel->notebook)\r\n",
      "  Using cached wcwidth-0.1.7-py2.py3-none-any.whl\r\n",
      "Installing collected packages: pygments, ipython-genutils, decorator, six, traitlets, jupyter-core, mistune, jsonschema, nbformat, MarkupSafe, jinja2, entrypoints, nbconvert, tornado, ptyprocess, terminado, pexpect, wcwidth, prompt-toolkit, pickleshare, simplegeneric, ipython, pyzmq, jupyter-client, ipykernel, notebook\r\n",
      "Successfully installed MarkupSafe-0.23 decorator-4.0.10 entrypoints-0.2.2 ipykernel-4.5.0 ipython-5.1.0 ipython-genutils-0.1.0 jinja2-2.8 jsonschema-2.5.1 jupyter-client-4.4.0 jupyter-core-4.2.0 mistune-0.7.3 nbconvert-4.2.0 nbformat-4.1.0 notebook-4.2.3 pexpect-4.2.1 pickleshare-0.7.4 prompt-toolkit-1.0.8 ptyprocess-0.5.1 pygments-2.1.3 pyzmq-16.0.0 simplegeneric-0.8.1 six-1.10.0 terminado-0.6 tornado-4.4.2 traitlets-4.3.1 wcwidth-0.1.7\r\n",
      "(test_env) Collecting bash_kernel\r\n",
      "  Using cached bash_kernel-0.4.1-py2.py3-none-any.whl\r\n",
      "Requirement already satisfied (use --upgrade to upgrade): pexpect>=3.3 in ./test_env/lib/python3.5/site-packages (from bash_kernel)\r\n",
      "Requirement already satisfied (use --upgrade to upgrade): ptyprocess>=0.5 in ./test_env/lib/python3.5/site-packages (from pexpect>=3.3->bash_kernel)\r\n",
      "Installing collected packages: bash-kernel\r\n",
      "Successfully installed bash-kernel-0.4.1\r\n",
      "(test_env) "
     ]
    }
   ],
   "source": [
    "pip install --upgrade notebook\n",
    "pip install bash_kernel"
   ]
  },
  {
   "cell_type": "code",
   "execution_count": 4,
   "metadata": {
    "collapsed": false
   },
   "outputs": [
    {
     "name": "stdout",
     "output_type": "stream",
     "text": [
      "Installing IPython kernel spec\r\n",
      "(test_env) "
     ]
    }
   ],
   "source": [
    "python -m bash_kernel.install"
   ]
  },
  {
   "cell_type": "markdown",
   "metadata": {},
   "source": [
    "Now when you run the command jupyter notebook, you will see a bash option when you select \"new\" to create a new notebook"
   ]
  },
  {
   "cell_type": "code",
   "execution_count": null,
   "metadata": {
    "collapsed": true
   },
   "outputs": [],
   "source": [
    "jupyter notebook"
   ]
  }
 ],
 "metadata": {
  "kernelspec": {
   "display_name": "Bash",
   "language": "bash",
   "name": "bash"
  },
  "language_info": {
   "codemirror_mode": "shell",
   "file_extension": ".sh",
   "mimetype": "text/x-sh",
   "name": "bash"
  }
 },
 "nbformat": 4,
 "nbformat_minor": 1
}
